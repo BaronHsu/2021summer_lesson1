{
 "cells": [
  {
   "cell_type": "markdown",
   "metadata": {},
   "source": [
    "# Docker 常用指令"
   ]
  },
  {
   "cell_type": "code",
   "execution_count": 1,
   "metadata": {},
   "outputs": [
    {
     "name": "stdout",
     "output_type": "stream",
     "text": [
      "CONTAINER ID  IMAGE   COMMAND  CREATED  STATUS  PORTS   NAMES\n"
     ]
    }
   ],
   "source": [
    "# 建立 image\n",
    "! docker build -t {image_name} .\n",
    "\n",
    "# 查詢現有 image\n",
    "! docker images\n",
    "\n",
    "# 執行 image\n",
    "! docker run {image_name}\n",
    "\n",
    "# 刪除 image\n",
    "! docker rmi\n",
    "\n",
    "# 查詢正再植執行的 containers\n",
    "! docker ps -a\n",
    "\n",
    "# 暫停 container\n",
    "! docker stop\n",
    "\n",
    "# 刪除 container\n",
    "! docker rm"
   ]
  }
 ],
 "metadata": {
  "interpreter": {
   "hash": "31f2aee4e71d21fbe5cf8b01ff0e069b9275f58929596ceb00d14d90e3e16cd6"
  },
  "kernelspec": {
   "display_name": "Python 3.6.8 64-bit ('usr')",
   "name": "python3"
  },
  "language_info": {
   "name": "python",
   "version": ""
  },
  "orig_nbformat": 4
 },
 "nbformat": 4,
 "nbformat_minor": 2
}