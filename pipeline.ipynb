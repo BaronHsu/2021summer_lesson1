{
 "cells": [
  {
   "cell_type": "markdown",
   "metadata": {},
   "source": [
    "## 早上:\n",
    "1. install vscode  or  ubuntu + WSL + git + vscode \\\n",
    "   vscode: https://code.visualstudio.com/ \\\n",
    "   ubuntu+WSL: https://docs.microsoft.com/zh-tw/windows/wsl/install-win10 \\\n",
    "   git: apt-get install git \n",
    "   \n",
    "2. 介紹 vscode \n",
    "\n",
    "3. vscode + ssh remote to 計中 \n",
    "\n",
    "## 下午:\n",
    "4. 介紹 vocode git extentions\n",
    "\n",
    "5. 使用clone的檔案介紹linux功能 \n",
    "\n",
    "6. PBS \n",
    "\n",
    "7. Docker \n",
    "\n"
   ]
  },
  {
   "cell_type": "markdown",
   "metadata": {},
   "source": [
    "## 4. 介紹 vocode git extensions"
   ]
  },
  {
   "cell_type": "code",
   "execution_count": null,
   "metadata": {},
   "outputs": [],
   "source": [
    "!git clone https://github.com/hardness1020/2021summer_lesson1.git"
   ]
  },
  {
   "cell_type": "markdown",
   "metadata": {},
   "source": [
    "## 5. 使用clone的檔案介紹linux功能"
   ]
  },
  {
   "cell_type": "code",
   "execution_count": null,
   "metadata": {},
   "outputs": [],
   "source": []
  }
 ],
 "metadata": {
  "interpreter": {
   "hash": "31f2aee4e71d21fbe5cf8b01ff0e069b9275f58929596ceb00d14d90e3e16cd6"
  },
  "kernelspec": {
   "display_name": "Python 3.6.8 64-bit ('usr')",
   "name": "python3"
  },
  "language_info": {
   "name": "python",
   "version": ""
  },
  "orig_nbformat": 4
 },
 "nbformat": 4,
 "nbformat_minor": 2
}